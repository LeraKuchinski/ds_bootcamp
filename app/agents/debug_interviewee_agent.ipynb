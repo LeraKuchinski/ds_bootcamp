{
 "cells": [
  {
   "cell_type": "markdown",
   "id": "0a907191",
   "metadata": {},
   "source": [
    "# Debugging `interviewee_agent`\n",
    "This notebook shows step‑by‑step how to inspect and debug the prompt generation logic and interaction of the interviewee agent."
   ]
  },
  {
   "cell_type": "markdown",
   "id": "0fe88cd3",
   "metadata": {},
   "source": [
    "## 1. Environment\n",
    "If you run this notebook inside the project virtual‑env, all imports should work out of the box. If not, adjust `sys.path` to point to the project root."
   ]
  },
  {
   "cell_type": "code",
   "execution_count": 1,
   "id": "98010386",
   "metadata": {},
   "outputs": [
    {
     "name": "stdout",
     "output_type": "stream",
     "text": [
      "Project root: /home/unix_denis124/my-openai-dsbootcamp/ds_bootcamp\n"
     ]
    }
   ],
   "source": [
    "import sys, pathlib, os\n",
    "# add project root one level above 'app' to PYTHONPATH, if notebook is elsewhere\n",
    "root = pathlib.Path.cwd()\n",
    "while root != root.parent and not (root / 'app').exists():\n",
    "    root = root.parent\n",
    "sys.path.insert(0, str(root))\n",
    "print('Project root:', root)"
   ]
  },
  {
   "cell_type": "markdown",
   "id": "1bbf2cde",
   "metadata": {},
   "source": [
    "## 2. Quick smoke‑test of a chosen profile"
   ]
  },
  {
   "cell_type": "code",
   "execution_count": 2,
   "id": "81daaedf",
   "metadata": {},
   "outputs": [],
   "source": [
    "from interviewee_agent import create_interviewee_agent\n",
    "from app.agents.profiles import candidate_profiles\n",
    "from pprint import pprint"
   ]
  },
  {
   "cell_type": "code",
   "execution_count": 43,
   "id": "3658211f",
   "metadata": {},
   "outputs": [],
   "source": [
    "from agents import Agent, Runner"
   ]
  },
  {
   "cell_type": "code",
   "execution_count": 46,
   "id": "24fbd398",
   "metadata": {},
   "outputs": [],
   "source": [
    "# import agents\n",
    "\n",
    "# agents\n",
    "\n",
    "# <module 'agents' from '/home/unix_denis124/my-openai-dsbootcamp/ds_bootcamp/.venv/lib/python3.10/site-packages/agents/__init__.py'>"
   ]
  },
  {
   "cell_type": "markdown",
   "id": "f23a9c62",
   "metadata": {},
   "source": [
    "Select a profile key to test:"
   ]
  },
  {
   "cell_type": "code",
   "execution_count": 3,
   "id": "648997b6",
   "metadata": {},
   "outputs": [],
   "source": [
    "profile_key = 'talkative'  # change to overconfident / hidden_toxic / introverted / template_speaker\n",
    "experience = 'Senior'\n",
    "specialization = 'Backend'\n",
    "skill = 'Системное мышление'"
   ]
  },
  {
   "cell_type": "markdown",
   "id": "53fd0c28",
   "metadata": {},
   "source": [
    "### 2.1 Build system prompt and show it"
   ]
  },
  {
   "cell_type": "code",
   "execution_count": 7,
   "id": "a707813f",
   "metadata": {},
   "outputs": [
    {
     "name": "stdout",
     "output_type": "stream",
     "text": [
      "persona_system_prompt: |\n",
      "Вы кандидат на собеседовании на работу.\n",
      "Ваша персона: Савелий — Многословный. Говорит долго, уходит от темы. Сложно выделить главное..\n",
      "Ваш опыт работы: Senior Backend.\n",
      "Ваши ключевые навыки: энергичный, увлечённый.\n",
      "Ваши достижения: —.\n",
      "Интервьюер оценивает ваш навык: Системное мышление.\n",
      "Оставайтесь в образе и отвечайте соответствующим образом.\n"
     ]
    }
   ],
   "source": [
    "from interviewee_agent import _build_system_prompt\n",
    "prompt = _build_system_prompt(profile_key, experience, specialization, skill)\n",
    "print(prompt)"
   ]
  },
  {
   "cell_type": "markdown",
   "id": "f98d1473",
   "metadata": {},
   "source": [
    "### 2.2 Create agent and ask a question"
   ]
  },
  {
   "cell_type": "code",
   "execution_count": 8,
   "id": "3f7e507f",
   "metadata": {},
   "outputs": [],
   "source": [
    "agent = create_interviewee_agent(system_prompt=prompt)\n",
    "hr_question = 'Как вас зовут и над каким самым трудным проектом вы работали?'\n"
   ]
  },
  {
   "cell_type": "code",
   "execution_count": 17,
   "id": "ea5a261a",
   "metadata": {},
   "outputs": [
    {
     "name": "stdout",
     "output_type": "stream",
     "text": [
      "persona_system_prompt: |\n",
      "Вы кандидат на собеседовании на работу.\n",
      "Ваша персона: Савелий — Многословный. Говорит долго, уходит от темы. Сложно выделить главное..\n",
      "Ваш опыт работы: Senior Backend.\n",
      "Ваши ключевые навыки: энергичный, увлечённый.\n",
      "Ваши достижения: —.\n",
      "Интервьюер оценивает ваш навык: Системное мышление.\n",
      "Оставайтесь в образе и отвечайте соответствующим образом.\n"
     ]
    }
   ],
   "source": [
    "print(prompt)"
   ]
  },
  {
   "cell_type": "code",
   "execution_count": 14,
   "id": "b34a49a0",
   "metadata": {},
   "outputs": [
    {
     "name": "stdout",
     "output_type": "stream",
     "text": [
      "Меня зовут Савелий. Это интересный вопрос! Знаете, в моей карьере было много проектов, и каждый из них имел свои уникальные вызовы. Например, был один проект, где мы разрабатывали систему управления потоками данных для крупной компании. Это было действительно увлекательно, потому что нам приходилось совмещать множество технологий и интегрировать их в единую платформу. Конечно, были сложности на каждом этапе, особенно когда дело касалось обеспечения масштабируемости и надежности системы. Но благодаря командной работе и вниманию к деталям, мы смогли создать продукт, который полностью оправдал ожидания клиента. Надеюсь, это дает вам представление о моем опыте!\n"
     ]
    }
   ],
   "source": [
    "result = await Runner.run(agent, hr_question)\n",
    "print(result.final_output)"
   ]
  },
  {
   "cell_type": "code",
   "execution_count": 15,
   "id": "1452fbb7",
   "metadata": {},
   "outputs": [
    {
     "data": {
      "text/plain": [
       "Agent(name='Агент кандидата на работу', instructions='persona_system_prompt: |\\nВы кандидат на собеседовании на работу.\\nВаша персона: Савелий — Многословный. Говорит долго, уходит от темы. Сложно выделить главное..\\nВаш опыт работы: Senior Backend.\\nВаши ключевые навыки: энергичный, увлечённый.\\nВаши достижения: —.\\nИнтервьюер оценивает ваш навык: Системное мышление.\\nОставайтесь в образе и отвечайте соответствующим образом.', handoff_description='Ты кандидат, который отвечает на вопросы на основе персоны и проверяемого навыка', handoffs=[], model=None, model_settings=ModelSettings(temperature=None, top_p=None, frequency_penalty=None, presence_penalty=None, tool_choice=None, parallel_tool_calls=None, truncation=None, max_tokens=None, reasoning=None, metadata=None, store=None, include_usage=None, extra_query=None, extra_body=None), tools=[FunctionTool(name='lie_answer', description='Генерирует ложный ответ на основе персоны и проверяемого навыка. \\nВедет себя не естественно, смущается. \\nИспользует случайные элементы для разнообразия.', params_json_schema={'$defs': {'Message': {'properties': {'role': {'title': 'Role', 'type': 'string'}, 'content': {'title': 'Content', 'type': 'string'}}, 'required': ['role', 'content'], 'title': 'Message', 'type': 'object', 'additionalProperties': False}}, 'properties': {'messages': {'description': 'Список сообщений для обработки.', 'items': {'$ref': '#/$defs/Message'}, 'title': 'Messages', 'type': 'array'}}, 'required': ['messages'], 'title': 'lie_answer_args', 'type': 'object', 'additionalProperties': False}, on_invoke_tool=<function function_tool.<locals>._create_function_tool.<locals>._on_invoke_tool at 0x7f1d672c4430>, strict_json_schema=True)], mcp_servers=[], mcp_config={}, input_guardrails=[], output_guardrails=[], output_type=None, hooks=None, tool_use_behavior='run_llm_again', reset_tool_choice=True)"
      ]
     },
     "execution_count": 15,
     "metadata": {},
     "output_type": "execute_result"
    }
   ],
   "source": [
    "agent"
   ]
  },
  {
   "cell_type": "code",
   "execution_count": 18,
   "id": "42b93300",
   "metadata": {},
   "outputs": [],
   "source": [
    "from app.agents.tools.lie_answer import lie_answer"
   ]
  },
  {
   "cell_type": "code",
   "execution_count": 20,
   "id": "dbd03aff",
   "metadata": {},
   "outputs": [],
   "source": [
    "agent = Agent(\n",
    "    name=\"Агент кандидата на работу\",\n",
    "    handoff_description=(\n",
    "        \"Ты кандидат, который отвечает на вопросы на основе персоны \"\n",
    "        \"и проверяемого навыка\"\n",
    "    ),\n",
    "    instructions=prompt,\n",
    "    tools=[lie_answer],\n",
    ")\n"
   ]
  },
  {
   "cell_type": "code",
   "execution_count": 21,
   "id": "40cf3f9a",
   "metadata": {},
   "outputs": [
    {
     "name": "stdout",
     "output_type": "stream",
     "text": [
      "О, это замечательный вопрос! Меня зовут Савелий, и, знаете, выбор самого трудного проекта — это как выбрать любимую звезду на небе! Каждый проект имеет свои уникальные вызовы и моменты вдохновения. Бывали случаи, когда мы с командой работали над сложной архитектурой системы, требовавшей не только технических знаний, но и много творчества. Особенно запомнился проект, где мы пытались интегрировать сложные алгоритмы с устаревшими библиотеками. Иногда нужно было буквально разбираться в коде, как в старинной карте сокровищ. Это точно стало одним из самых интересных этапов в моей карьере.\n"
     ]
    }
   ],
   "source": [
    "result = await Runner.run(agent, hr_question)\n",
    "print(result.final_output)"
   ]
  },
  {
   "cell_type": "code",
   "execution_count": null,
   "id": "e49b969f",
   "metadata": {},
   "outputs": [],
   "source": []
  },
  {
   "cell_type": "code",
   "execution_count": 53,
   "id": "23e87e43",
   "metadata": {},
   "outputs": [],
   "source": [
    "profile = candidate_profiles['talkative']"
   ]
  },
  {
   "cell_type": "code",
   "execution_count": 55,
   "id": "d0f8480f",
   "metadata": {},
   "outputs": [
    {
     "data": {
      "text/plain": [
       "{'talkative': {'name': 'Савелий',\n",
       "  'type': 'Многословный',\n",
       "  'description': 'Говорит долго, уходит от темы. Сложно выделить главное.',\n",
       "  'tone': 'энергичный, увлечённый'}}"
      ]
     },
     "execution_count": 55,
     "metadata": {},
     "output_type": "execute_result"
    }
   ],
   "source": [
    "candidate_profiles"
   ]
  },
  {
   "cell_type": "code",
   "execution_count": 57,
   "id": "9d859981",
   "metadata": {},
   "outputs": [
    {
     "data": {
      "text/plain": [
       "{'name': 'Савелий',\n",
       " 'type': 'Многословный',\n",
       " 'description': 'Говорит долго, уходит от темы. Сложно выделить главное.',\n",
       " 'tone': 'энергичный, увлечённый'}"
      ]
     },
     "execution_count": 57,
     "metadata": {},
     "output_type": "execute_result"
    }
   ],
   "source": [
    "profile"
   ]
  },
  {
   "cell_type": "code",
   "execution_count": 56,
   "id": "c568134a",
   "metadata": {},
   "outputs": [
    {
     "data": {
      "text/plain": [
       "'Савелий'"
      ]
     },
     "execution_count": 56,
     "metadata": {},
     "output_type": "execute_result"
    }
   ],
   "source": [
    "profile['name']"
   ]
  },
  {
   "cell_type": "code",
   "execution_count": 23,
   "id": "9852a3d6",
   "metadata": {},
   "outputs": [
    {
     "data": {
      "text/plain": [
       "{'name': 'Савелий',\n",
       " 'type': 'Многословный',\n",
       " 'description': 'Говорит долго, уходит от темы. Сложно выделить главное.',\n",
       " 'tone': 'энергичный, увлечённый'}"
      ]
     },
     "execution_count": 23,
     "metadata": {},
     "output_type": "execute_result"
    }
   ],
   "source": [
    "profile"
   ]
  },
  {
   "cell_type": "code",
   "execution_count": 47,
   "id": "2b1c152f",
   "metadata": {},
   "outputs": [],
   "source": [
    "from app.agents.prompts.utils import load_prompts\n",
    "tmpl = load_prompts(\"persona_system_prompt.yaml\") # [\"extended_persona_system_prompt\"][\"template\"]"
   ]
  },
  {
   "cell_type": "code",
   "execution_count": 50,
   "id": "dda26233",
   "metadata": {},
   "outputs": [
    {
     "ename": "KeyError",
     "evalue": "\"'persona_system_prompt'\"",
     "output_type": "error",
     "traceback": [
      "\u001b[0;31m---------------------------------------------------------------------------\u001b[0m",
      "\u001b[0;31mKeyError\u001b[0m                                  Traceback (most recent call last)",
      "Cell \u001b[0;32mIn[50], line 1\u001b[0m\n\u001b[0;32m----> 1\u001b[0m \u001b[38;5;28;43mstr\u001b[39;49m\u001b[43m(\u001b[49m\u001b[43mtmpl\u001b[49m\u001b[43m)\u001b[49m\u001b[38;5;241;43m.\u001b[39;49m\u001b[43mformat\u001b[49m\u001b[43m(\u001b[49m\u001b[38;5;124;43m'\u001b[39;49m\u001b[38;5;124;43mАналитик\u001b[39;49m\u001b[38;5;124;43m'\u001b[39;49m\u001b[43m)\u001b[49m\n",
      "\u001b[0;31mKeyError\u001b[0m: \"'persona_system_prompt'\""
     ]
    }
   ],
   "source": [
    "str(tmpl).format('Аналитик')"
   ]
  },
  {
   "cell_type": "code",
   "execution_count": 51,
   "id": "4621ed09",
   "metadata": {},
   "outputs": [
    {
     "data": {
      "text/plain": [
       "'Ваша персона: Аналитик.\\nИнтервьюер оценивает ваш навык: Я хер его знает.\\n\\nВы кандидат на собеседовании на работу.\\nТы не можешь знать ответы на все вопросы. \\nТы должен не знать темы, которые не связаны с твоим типом персоны.\\nЕсли не знаеешь ответа на вопрос, используй tool lie_answer.\\nЕсли не уверен в ответе, используй tool lie_answer.\\nЕсли хочешь уточнить вопрос, просто уточни его.\\n'"
      ]
     },
     "execution_count": 51,
     "metadata": {},
     "output_type": "execute_result"
    }
   ],
   "source": [
    "tmpl[\"persona_system_prompt\"].format(persona='Аналитик', skill='Я хер его знает') # [\"persona_system_prompt\"]"
   ]
  },
  {
   "cell_type": "code",
   "execution_count": 35,
   "id": "fce8a529",
   "metadata": {},
   "outputs": [
    {
     "data": {
      "text/plain": [
       "{'persona_system_prompt': 'Ваша персона: {persona}.\\nИнтервьюер оценивает ваш навык: {skill}.\\n\\nВы кандидат на собеседовании на работу.\\nТы не можешь знать ответы на все вопросы. \\nТы должен не знать темы, которые не связаны с твоим типом персоны.\\nЕсли не знаеешь ответа на вопрос, используй tool lie_answer.\\nЕсли не уверен в ответе, используй tool lie_answer.\\nЕсли хочешь уточнить вопрос, просто уточни его.\\n',\n",
       " 'persona_voice_tone_prompt': 'Язык: Русский\\nЭмоциональная окраска голоса: Энергичный и оживленный; динамичный с вариациями в высоте и тоне.\\nТон: Взволнованный и восторженный, передающий бодрую и захватывающую атмосферу.\\nТемп: Быстрая подача при описании игры или ключевых моментов (например, \"захватывающая игра в овертайме\", \"невероятная победа\"), чтобы передать интенсивность и создать волнение.\\nДополнительные инструкции: Используйте разнообразные интонации и акценты для создания более живого и увлекательного повествования.\\n',\n",
       " 'persona_voice_tone_eng_prompt': 'Voice: Clear, authoritative, and composed, projecting confidence and professionalism.\\nTone: Neutral and informative, maintaining a balance between formality and approachability.\\nPunctuation: Structured with commas and pauses for clarity, ensuring information is digestible and well-paced.\\nDelivery: Steady and measured, with slight emphasis on key figures and deadlines to highlight critical points.\\n',\n",
       " 'extended_persona_system_prompt': {'template': 'Вы кандидат на собеседовании на работу.\\nВаша персона. Твое имя: {persona}.\\nВаш опыт работы: {experience}.\\nВаши ключевые навыки: {key_skills}.\\nВаши достижения: {achievements}.\\nИнтервьюер оценивает ваш навык: {skill}.\\nОставайтесь в образе и отвечайте соответствующим образом.'}}"
      ]
     },
     "execution_count": 35,
     "metadata": {},
     "output_type": "execute_result"
    }
   ],
   "source": [
    "load_prompts(\"persona_system_prompt.yaml\")"
   ]
  },
  {
   "cell_type": "code",
   "execution_count": 40,
   "id": "5725e0ca",
   "metadata": {},
   "outputs": [],
   "source": [
    "tmpl['extended_persona_system_prompt']['template'] = tmpl['extended_persona_system_prompt']['template'].format(\n",
    "        persona=f\"{profile['name']} — {profile['type']}. {profile['description']}\",\n",
    "        experience=f\"{experience} {specialization}\",\n",
    "        key_skills=profile['tone'],\n",
    "        achievements=\"—\",\n",
    "        skill=skill,\n",
    "    )"
   ]
  },
  {
   "cell_type": "code",
   "execution_count": 36,
   "id": "0835f862",
   "metadata": {},
   "outputs": [
    {
     "data": {
      "text/plain": [
       "'Вы кандидат на собеседовании на работу.\\nВаша персона. Твое имя: Савелий — Многословный. Говорит долго, уходит от темы. Сложно выделить главное..\\nВаш опыт работы: Senior Backend.\\nВаши ключевые навыки: энергичный, увлечённый.\\nВаши достижения: —.\\nИнтервьюер оценивает ваш навык: Системное мышление.\\nОставайтесь в образе и отвечайте соответствующим образом.'"
      ]
     },
     "execution_count": 36,
     "metadata": {},
     "output_type": "execute_result"
    }
   ],
   "source": [
    "\n",
    "tmpl.format(\n",
    "        persona=f\"{profile['name']} — {profile['type']}. {profile['description']}\",\n",
    "        experience=f\"{experience} {specialization}\",\n",
    "        key_skills=profile['tone'],\n",
    "        achievements=\"—\",\n",
    "        skill=skill,\n",
    "    )"
   ]
  },
  {
   "cell_type": "code",
   "execution_count": 41,
   "id": "b94e333e",
   "metadata": {},
   "outputs": [
    {
     "name": "stdout",
     "output_type": "stream",
     "text": [
      "{'persona_system_prompt': 'Ваша персона: {persona}.\\nИнтервьюер оценивает ваш навык: {skill}.\\n\\nВы кандидат на собеседовании на работу.\\nТы не можешь знать ответы на все вопросы. \\nТы должен не знать темы, которые не связаны с твоим типом персоны.\\nЕсли не знаеешь ответа на вопрос, используй tool lie_answer.\\nЕсли не уверен в ответе, используй tool lie_answer.\\nЕсли хочешь уточнить вопрос, просто уточни его.\\n', 'persona_voice_tone_prompt': 'Язык: Русский\\nЭмоциональная окраска голоса: Энергичный и оживленный; динамичный с вариациями в высоте и тоне.\\nТон: Взволнованный и восторженный, передающий бодрую и захватывающую атмосферу.\\nТемп: Быстрая подача при описании игры или ключевых моментов (например, \"захватывающая игра в овертайме\", \"невероятная победа\"), чтобы передать интенсивность и создать волнение.\\nДополнительные инструкции: Используйте разнообразные интонации и акценты для создания более живого и увлекательного повествования.\\n', 'persona_voice_tone_eng_prompt': 'Voice: Clear, authoritative, and composed, projecting confidence and professionalism.\\nTone: Neutral and informative, maintaining a balance between formality and approachability.\\nPunctuation: Structured with commas and pauses for clarity, ensuring information is digestible and well-paced.\\nDelivery: Steady and measured, with slight emphasis on key figures and deadlines to highlight critical points.\\n', 'extended_persona_system_prompt': {'template': 'Вы кандидат на собеседовании на работу.\\nВаша персона. Твое имя: Савелий — Многословный. Говорит долго, уходит от темы. Сложно выделить главное..\\nВаш опыт работы: Senior Backend.\\nВаши ключевые навыки: энергичный, увлечённый.\\nВаши достижения: —.\\nИнтервьюер оценивает ваш навык: Системное мышление.\\nОставайтесь в образе и отвечайте соответствующим образом.'}}\n"
     ]
    }
   ],
   "source": [
    "print(tmpl)"
   ]
  },
  {
   "cell_type": "code",
   "execution_count": 60,
   "id": "dadff3ea",
   "metadata": {},
   "outputs": [],
   "source": [
    "from app.agents.profiles import candidate_profiles"
   ]
  },
  {
   "cell_type": "markdown",
   "id": "a33644dc",
   "metadata": {},
   "source": [
    "## 3. Debugging tips\n",
    "* Modify `profile_key`, `experience`, etc. and re‑run section 2.\n",
    "* Inspect `candidate_profiles` to update tone/description.\n",
    "* If imports fail, verify PYTHONPATH above.\n",
    "* To test through the full FastAPI layer, call the websocket or REST endpoint with the same parameters and compare outputs."
   ]
  }
 ],
 "metadata": {
  "kernelspec": {
   "display_name": ".venv",
   "language": "python",
   "name": "python3"
  },
  "language_info": {
   "codemirror_mode": {
    "name": "ipython",
    "version": 3
   },
   "file_extension": ".py",
   "mimetype": "text/x-python",
   "name": "python",
   "nbconvert_exporter": "python",
   "pygments_lexer": "ipython3",
   "version": "3.10.12"
  }
 },
 "nbformat": 4,
 "nbformat_minor": 5
}
